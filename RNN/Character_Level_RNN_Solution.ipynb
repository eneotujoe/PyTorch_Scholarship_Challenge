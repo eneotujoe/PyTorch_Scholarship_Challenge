{
  "nbformat": 4,
  "nbformat_minor": 0,
  "metadata": {
    "colab": {
      "name": "Character_Level_RNN_Solution.ipynb",
      "version": "0.3.2",
      "provenance": []
    },
    "kernelspec": {
      "name": "python3",
      "display_name": "Python 3"
    },
    "accelerator": "GPU"
  },
  "cells": [
    {
      "metadata": {
        "id": "d5aRHo2Ey4PN",
        "colab_type": "text"
      },
      "cell_type": "markdown",
      "source": [
        "# Character-Level LSTM in PyTorch\n",
        "\n",
        "In this notebook, I'll construct a character-level LSTM with PyTorch. The network will train character by character on some text, then generate new text character by character. As an example, I will train on Anna Karenina. **This model will be able to generate new text based on the text from the book!**\n",
        "\n",
        "This network is based off of Andrej Karpathy's [post on RNNs](http://karpathy.github.io/2015/05/21/rnn-effectiveness/) and [implementation in Torch](https://github.com/karpathy/char-rnn). Below is the general architecture of the character-wise RNN.\n",
        "\n",
        "<img src=\"https://github.com/udacity/deep-learning-v2-pytorch/blob/master/recurrent-neural-networks/char-rnn/assets/charseq.jpeg?raw=1\" width=\"500\">"
      ]
    },
    {
      "metadata": {
        "id": "2ubj6RDYy4PX",
        "colab_type": "text"
      },
      "cell_type": "markdown",
      "source": [
        "First let's load in our required resources for data loading and model creation."
      ]
    },
    {
      "metadata": {
        "id": "lmYBf-zjy4Pc",
        "colab_type": "code",
        "colab": {}
      },
      "cell_type": "code",
      "source": [
        "import numpy as np\n",
        "import torch\n",
        "from torch import nn\n",
        "import torch.nn.functional as F"
      ],
      "execution_count": 0,
      "outputs": []
    },
    {
      "metadata": {
        "id": "7Ze_shG4Abbr",
        "colab_type": "code",
        "colab": {}
      },
      "cell_type": "code",
      "source": [
        "path = 'anna.txt'"
      ],
      "execution_count": 0,
      "outputs": []
    },
    {
      "metadata": {
        "id": "8yEtQ7e8zg7o",
        "colab_type": "code",
        "colab": {
          "base_uri": "https://localhost:8080/",
          "height": 33
        },
        "outputId": "b9defae9-97db-404a-b0b3-79723ba690eb"
      },
      "cell_type": "code",
      "source": [
        "import os\n",
        "os.path.isfile(path)"
      ],
      "execution_count": 8,
      "outputs": [
        {
          "output_type": "execute_result",
          "data": {
            "text/plain": [
              "True"
            ]
          },
          "metadata": {
            "tags": []
          },
          "execution_count": 8
        }
      ]
    },
    {
      "metadata": {
        "id": "IVpj3oKTy4Pr",
        "colab_type": "text"
      },
      "cell_type": "markdown",
      "source": [
        "## Load in Data\n",
        "\n",
        "Then, we'll load the Anna Karenina text file and convert it into integers for our network to use. "
      ]
    },
    {
      "metadata": {
        "id": "cGIJgtaMy4Pw",
        "colab_type": "code",
        "colab": {}
      },
      "cell_type": "code",
      "source": [
        "# open text file and read in data as `text`\n",
        "with open(path, 'r') as f:\n",
        "    text = f.read()"
      ],
      "execution_count": 0,
      "outputs": []
    },
    {
      "metadata": {
        "id": "YCPAD1pqy4P5",
        "colab_type": "text"
      },
      "cell_type": "markdown",
      "source": [
        "Let's check out the first 100 characters, make sure everything is peachy. According to the [American Book Review](http://americanbookreview.org/100bestlines.asp), this is the 6th best first line of a book ever."
      ]
    },
    {
      "metadata": {
        "id": "Vo47i3QXy4P9",
        "colab_type": "code",
        "colab": {
          "base_uri": "https://localhost:8080/",
          "height": 33
        },
        "outputId": "8bcb1e43-37e2-4bef-b756-52efc3077aea"
      },
      "cell_type": "code",
      "source": [
        "text[:100]"
      ],
      "execution_count": 10,
      "outputs": [
        {
          "output_type": "execute_result",
          "data": {
            "text/plain": [
              "'Chapter 1\\n\\n\\nHappy families are all alike; every unhappy family is unhappy in its own\\nway.\\n\\nEverythin'"
            ]
          },
          "metadata": {
            "tags": []
          },
          "execution_count": 10
        }
      ]
    },
    {
      "metadata": {
        "id": "MKFLlvtay4QN",
        "colab_type": "text"
      },
      "cell_type": "markdown",
      "source": [
        "### Tokenization\n",
        "\n",
        "In the cells, below, I'm creating a couple **dictionaries** to convert the characters to and from integers. Encoding the characters as integers makes it easier to use as input in the network."
      ]
    },
    {
      "metadata": {
        "id": "yRSrqdiry4QP",
        "colab_type": "code",
        "colab": {}
      },
      "cell_type": "code",
      "source": [
        "# encode the text and map each character to an integer and vice versa\n",
        "\n",
        "# we create two dictionaries:\n",
        "# 1. int2char, which maps integers to characters\n",
        "# 2. char2int, which maps characters to unique integers\n",
        "chars = tuple(set(text))\n",
        "int2char = dict(enumerate(chars))\n",
        "char2int = {ch: ii for ii, ch in int2char.items()}\n",
        "\n",
        "# encode the text\n",
        "encoded = np.array([char2int[ch] for ch in text])"
      ],
      "execution_count": 0,
      "outputs": []
    },
    {
      "metadata": {
        "id": "U9aNb5GwBDpI",
        "colab_type": "text"
      },
      "cell_type": "markdown",
      "source": [
        "###### To view the detailed encoding of the text, use the codes below.\n",
        "\n",
        "```\n",
        "for ch in text:\n",
        "    encoded = char2int[ch]\n",
        "    print('{} --> {} \\n'.format(ch, encoded))\n",
        "```\n",
        "\n"
      ]
    },
    {
      "metadata": {
        "id": "hByQp6Bby4QV",
        "colab_type": "text"
      },
      "cell_type": "markdown",
      "source": [
        "And we can see those same characters from above, encoded as integers."
      ]
    },
    {
      "metadata": {
        "id": "gWeaWuq1ENLy",
        "colab_type": "code",
        "colab": {
          "base_uri": "https://localhost:8080/",
          "height": 53
        },
        "outputId": "2dcfe2cc-91b0-4e47-911a-a3f47b677d03"
      },
      "cell_type": "code",
      "source": [
        "print(int2char)"
      ],
      "execution_count": 16,
      "outputs": [
        {
          "output_type": "stream",
          "text": [
            "{0: '@', 1: 'Y', 2: 'm', 3: 'l', 4: 'E', 5: 'V', 6: '-', 7: 'w', 8: '.', 9: 'y', 10: 'D', 11: 'M', 12: 'z', 13: 'Z', 14: 'S', 15: 'f', 16: '$', 17: '?', 18: 's', 19: 'b', 20: 'B', 21: 'h', 22: '3', 23: 'a', 24: '\"', 25: '2', 26: '1', 27: 'u', 28: 'j', 29: 'N', 30: ':', 31: '_', 32: 'H', 33: '&', 34: 'd', 35: ',', 36: 'O', 37: '0', 38: 'L', 39: 'p', 40: 'v', 41: '7', 42: '%', 43: '9', 44: \"'\", 45: '8', 46: 'R', 47: 'X', 48: 'e', 49: 'x', 50: 'Q', 51: 't', 52: ')', 53: 'T', 54: 'A', 55: '4', 56: 'U', 57: '(', 58: '!', 59: '/', 60: '5', 61: 'q', 62: 'i', 63: 'F', 64: 'P', 65: '\\n', 66: 'W', 67: 'c', 68: '`', 69: 'g', 70: 'G', 71: 'o', 72: 'C', 73: 'n', 74: ';', 75: 'I', 76: '6', 77: '*', 78: 'K', 79: ' ', 80: 'r', 81: 'J', 82: 'k'}\n"
          ],
          "name": "stdout"
        }
      ]
    },
    {
      "metadata": {
        "id": "-5KrN9N1ENH_",
        "colab_type": "code",
        "colab": {
          "base_uri": "https://localhost:8080/",
          "height": 53
        },
        "outputId": "defca3ad-a3ca-4276-ff44-db45151a54bd"
      },
      "cell_type": "code",
      "source": [
        "print(char2int)"
      ],
      "execution_count": 17,
      "outputs": [
        {
          "output_type": "stream",
          "text": [
            "{'@': 0, 'Y': 1, 'm': 2, 'l': 3, 'E': 4, 'V': 5, '-': 6, 'w': 7, '.': 8, 'y': 9, 'D': 10, 'M': 11, 'z': 12, 'Z': 13, 'S': 14, 'f': 15, '$': 16, '?': 17, 's': 18, 'b': 19, 'B': 20, 'h': 21, '3': 22, 'a': 23, '\"': 24, '2': 25, '1': 26, 'u': 27, 'j': 28, 'N': 29, ':': 30, '_': 31, 'H': 32, '&': 33, 'd': 34, ',': 35, 'O': 36, '0': 37, 'L': 38, 'p': 39, 'v': 40, '7': 41, '%': 42, '9': 43, \"'\": 44, '8': 45, 'R': 46, 'X': 47, 'e': 48, 'x': 49, 'Q': 50, 't': 51, ')': 52, 'T': 53, 'A': 54, '4': 55, 'U': 56, '(': 57, '!': 58, '/': 59, '5': 60, 'q': 61, 'i': 62, 'F': 63, 'P': 64, '\\n': 65, 'W': 66, 'c': 67, '`': 68, 'g': 69, 'G': 70, 'o': 71, 'C': 72, 'n': 73, ';': 74, 'I': 75, '6': 76, '*': 77, 'K': 78, ' ': 79, 'r': 80, 'J': 81, 'k': 82}\n"
          ],
          "name": "stdout"
        }
      ]
    },
    {
      "metadata": {
        "id": "jMs9o21tEM3E",
        "colab_type": "code",
        "colab": {
          "base_uri": "https://localhost:8080/",
          "height": 53
        },
        "outputId": "0deea849-fd22-425d-9468-5c3daaa8eba6"
      },
      "cell_type": "code",
      "source": [
        "print(int2char.items())"
      ],
      "execution_count": 18,
      "outputs": [
        {
          "output_type": "stream",
          "text": [
            "dict_items([(0, '@'), (1, 'Y'), (2, 'm'), (3, 'l'), (4, 'E'), (5, 'V'), (6, '-'), (7, 'w'), (8, '.'), (9, 'y'), (10, 'D'), (11, 'M'), (12, 'z'), (13, 'Z'), (14, 'S'), (15, 'f'), (16, '$'), (17, '?'), (18, 's'), (19, 'b'), (20, 'B'), (21, 'h'), (22, '3'), (23, 'a'), (24, '\"'), (25, '2'), (26, '1'), (27, 'u'), (28, 'j'), (29, 'N'), (30, ':'), (31, '_'), (32, 'H'), (33, '&'), (34, 'd'), (35, ','), (36, 'O'), (37, '0'), (38, 'L'), (39, 'p'), (40, 'v'), (41, '7'), (42, '%'), (43, '9'), (44, \"'\"), (45, '8'), (46, 'R'), (47, 'X'), (48, 'e'), (49, 'x'), (50, 'Q'), (51, 't'), (52, ')'), (53, 'T'), (54, 'A'), (55, '4'), (56, 'U'), (57, '('), (58, '!'), (59, '/'), (60, '5'), (61, 'q'), (62, 'i'), (63, 'F'), (64, 'P'), (65, '\\n'), (66, 'W'), (67, 'c'), (68, '`'), (69, 'g'), (70, 'G'), (71, 'o'), (72, 'C'), (73, 'n'), (74, ';'), (75, 'I'), (76, '6'), (77, '*'), (78, 'K'), (79, ' '), (80, 'r'), (81, 'J'), (82, 'k')])\n"
          ],
          "name": "stdout"
        }
      ]
    },
    {
      "metadata": {
        "id": "vOay_WiCy4QX",
        "colab_type": "code",
        "colab": {
          "base_uri": "https://localhost:8080/",
          "height": 117
        },
        "outputId": "b15ff6b5-c290-4da4-e456-78cc363c85fb"
      },
      "cell_type": "code",
      "source": [
        "encoded[:100]"
      ],
      "execution_count": 19,
      "outputs": [
        {
          "output_type": "execute_result",
          "data": {
            "text/plain": [
              "array([72, 21, 23, 39, 51, 48, 80, 79, 26, 65, 65, 65, 32, 23, 39, 39,  9,\n",
              "       79, 15, 23,  2, 62,  3, 62, 48, 18, 79, 23, 80, 48, 79, 23,  3,  3,\n",
              "       79, 23,  3, 62, 82, 48, 74, 79, 48, 40, 48, 80,  9, 79, 27, 73, 21,\n",
              "       23, 39, 39,  9, 79, 15, 23,  2, 62,  3,  9, 79, 62, 18, 79, 27, 73,\n",
              "       21, 23, 39, 39,  9, 79, 62, 73, 79, 62, 51, 18, 79, 71,  7, 73, 65,\n",
              "        7, 23,  9,  8, 65, 65,  4, 40, 48, 80,  9, 51, 21, 62, 73])"
            ]
          },
          "metadata": {
            "tags": []
          },
          "execution_count": 19
        }
      ]
    },
    {
      "metadata": {
        "id": "3TYNbEmjy4Qg",
        "colab_type": "text"
      },
      "cell_type": "markdown",
      "source": [
        "## Pre-processing the data\n",
        "\n",
        "As you can see in our char-RNN image above, our LSTM expects an input that is **one-hot encoded** meaning that each character is converted into an integer (via our created dictionary) and *then* converted into a column vector where only it's corresponding integer index will have the value of 1 and the rest of the vector will be filled with 0's. Since we're one-hot encoding the data, let's make a function to do that!\n"
      ]
    },
    {
      "metadata": {
        "id": "U48sYugqy4Qi",
        "colab_type": "code",
        "colab": {}
      },
      "cell_type": "code",
      "source": [
        "def one_hot_encode(arr, n_labels):\n",
        "    \n",
        "    # Initialize the the encoded array\n",
        "    one_hot = np.zeros((np.multiply(*arr.shape), n_labels), dtype=np.float32)\n",
        "    \n",
        "    # Fill the appropriate elements with ones\n",
        "    one_hot[np.arange(one_hot.shape[0]), arr.flatten()] = 1.\n",
        "    \n",
        "    # Finally reshape it to get back to the original array\n",
        "    one_hot = one_hot.reshape((*arr.shape, n_labels))\n",
        "    \n",
        "    return one_hot"
      ],
      "execution_count": 0,
      "outputs": []
    },
    {
      "metadata": {
        "id": "EGDdskfFy4Qo",
        "colab_type": "code",
        "colab": {
          "base_uri": "https://localhost:8080/",
          "height": 67
        },
        "outputId": "5477a54d-b644-479b-960a-4a015b862469"
      },
      "cell_type": "code",
      "source": [
        "# check that the function works as expected\n",
        "test_seq = np.array([[3, 5, 1]])\n",
        "one_hot = one_hot_encode(test_seq, 8)\n",
        "\n",
        "print(one_hot)"
      ],
      "execution_count": 21,
      "outputs": [
        {
          "output_type": "stream",
          "text": [
            "[[[0. 0. 0. 1. 0. 0. 0. 0.]\n",
            "  [0. 0. 0. 0. 0. 1. 0. 0.]\n",
            "  [0. 1. 0. 0. 0. 0. 0. 0.]]]\n"
          ],
          "name": "stdout"
        }
      ]
    },
    {
      "metadata": {
        "id": "35T6TAcPy4Qy",
        "colab_type": "text"
      },
      "cell_type": "markdown",
      "source": [
        "## Making training mini-batches\n",
        "\n",
        "\n",
        "To train on this data, we also want to create mini-batches for training. Remember that we want our batches to be multiple sequences of some desired number of sequence steps. Considering a simple example, our batches would look like this:\n",
        "\n",
        "<img src=\"https://github.com/udacity/deep-learning-v2-pytorch/blob/master/recurrent-neural-networks/char-rnn/assets/sequence_batching@1x.png?raw=1\" width=500px>\n",
        "\n",
        "\n",
        "<br>\n",
        "\n",
        "In this example, we'll take the encoded characters (passed in as the `arr` parameter) and split them into multiple sequences, given by `batch_size`. Each of our sequences will be `seq_length` long.\n",
        "\n",
        "### Creating Batches\n",
        "\n",
        "**1. The first thing we need to do is discard some of the text so we only have completely full mini-batches. **\n",
        "\n",
        "Each batch contains $N \\times M$ characters, where $N$ is the batch size (the number of sequences in a batch) and $M$ is the seq_length or number of time steps in a sequence. Then, to get the total number of batches, $K$, that we can make from the array `arr`, you divide the length of `arr` by the number of characters per batch. Once you know the number of batches, you can get the total number of characters to keep from `arr`, $N * M * K$.\n",
        "\n",
        "**2. After that, we need to split `arr` into $N$ batches. ** \n",
        "\n",
        "You can do this using `arr.reshape(size)` where `size` is a tuple containing the dimensions sizes of the reshaped array. We know we want $N$ sequences in a batch, so let's make that the size of the first dimension. For the second dimension, you can use `-1` as a placeholder in the size, it'll fill up the array with the appropriate data for you. After this, you should have an array that is $N \\times (M * K)$.\n",
        "\n",
        "**3. Now that we have this array, we can iterate through it to get our mini-batches. **\n",
        "\n",
        "The idea is each batch is a $N \\times M$ window on the $N \\times (M * K)$ array. For each subsequent batch, the window moves over by `seq_length`. We also want to create both the input and target arrays. Remember that the targets are just the inputs shifted over by one character. The way I like to do this window is use `range` to take steps of size `n_steps` from $0$ to `arr.shape[1]`, the total number of tokens in each sequence. That way, the integers you get from `range` always point to the start of a batch, and each window is `seq_length` wide.\n",
        "\n",
        "> **TODO:** Write the code for creating batches in the function below. The exercises in this notebook _will not be easy_. I've provided a notebook with solutions alongside this notebook. If you get stuck, checkout the solutions. The most important thing is that you don't copy and paste the code into here, **type out the solution code yourself.**"
      ]
    },
    {
      "metadata": {
        "id": "nQqbywwyy4Qz",
        "colab_type": "code",
        "colab": {}
      },
      "cell_type": "code",
      "source": [
        "def get_batches(arr, batch_size, seq_length):\n",
        "    '''Create a generator that returns batches of size\n",
        "       batch_size x seq_length from arr.\n",
        "       \n",
        "       Arguments\n",
        "       ---------\n",
        "       arr: Array you want to make batches from\n",
        "       batch_size: Batch size, the number of sequences per batch\n",
        "       seq_length: Number of encoded chars in a sequence\n",
        "    '''\n",
        "    \n",
        "    batch_size_total = batch_size * seq_length\n",
        "    # total number of batches we can make\n",
        "    n_batches = len(arr)//batch_size_total\n",
        "    \n",
        "    # Keep only enough characters to make full batches\n",
        "    arr = arr[:n_batches * batch_size_total]\n",
        "    # Reshape into batch_size rows\n",
        "    arr = arr.reshape((batch_size, -1))\n",
        "    \n",
        "    # iterate through the array, one sequence at a time\n",
        "    for n in range(0, arr.shape[1], seq_length):\n",
        "        # The features\n",
        "        x = arr[:, n:n+seq_length]\n",
        "        # The targets, shifted by one\n",
        "        y = np.zeros_like(x)\n",
        "        try:\n",
        "            y[:, :-1], y[:, -1] = x[:, 1:], arr[:, n+seq_length]\n",
        "        except IndexError:\n",
        "            y[:, :-1], y[:, -1] = x[:, 1:], arr[:, 0]\n",
        "        yield x, y"
      ],
      "execution_count": 0,
      "outputs": []
    },
    {
      "metadata": {
        "id": "7Ra_8WNoy4Q6",
        "colab_type": "text"
      },
      "cell_type": "markdown",
      "source": [
        "### Test Your Implementation\n",
        "\n",
        "Now I'll make some data sets and we can check out what's going on as we batch data. Here, as an example, I'm going to use a batch size of 8 and 50 sequence steps."
      ]
    },
    {
      "metadata": {
        "id": "5WSMWVuMy4Q8",
        "colab_type": "code",
        "colab": {}
      },
      "cell_type": "code",
      "source": [
        "batches = get_batches(encoded, 8, 50)\n",
        "x, y = next(batches)"
      ],
      "execution_count": 0,
      "outputs": []
    },
    {
      "metadata": {
        "id": "rUuZWn6sy4RE",
        "colab_type": "code",
        "colab": {
          "base_uri": "https://localhost:8080/",
          "height": 334
        },
        "outputId": "aa88e112-7355-471f-8cd4-437d254acc2b"
      },
      "cell_type": "code",
      "source": [
        "# printing out the first 10 items in a sequence\n",
        "print('x\\n', x[:10, :10])\n",
        "print('\\ny\\n', y[:10, :10])"
      ],
      "execution_count": 24,
      "outputs": [
        {
          "output_type": "stream",
          "text": [
            "x\n",
            " [[72 21 23 39 51 48 80 79 26 65]\n",
            " [18 71 73 79 51 21 23 51 79 23]\n",
            " [48 73 34 79 71 80 79 23 79 15]\n",
            " [18 79 51 21 48 79 67 21 62 48]\n",
            " [79 18 23  7 79 21 48 80 79 51]\n",
            " [67 27 18 18 62 71 73 79 23 73]\n",
            " [79 54 73 73 23 79 21 23 34 79]\n",
            " [36 19  3 71 73 18 82  9  8 79]]\n",
            "\n",
            "y\n",
            " [[21 23 39 51 48 80 79 26 65 65]\n",
            " [71 73 79 51 21 23 51 79 23 51]\n",
            " [73 34 79 71 80 79 23 79 15 71]\n",
            " [79 51 21 48 79 67 21 62 48 15]\n",
            " [18 23  7 79 21 48 80 79 51 48]\n",
            " [27 18 18 62 71 73 79 23 73 34]\n",
            " [54 73 73 23 79 21 23 34 79 18]\n",
            " [19  3 71 73 18 82  9  8 79 24]]\n"
          ],
          "name": "stdout"
        }
      ]
    },
    {
      "metadata": {
        "id": "9wGSw1b9y4RN",
        "colab_type": "text"
      },
      "cell_type": "markdown",
      "source": [
        "If you implemented `get_batches` correctly, the above output should look something like \n",
        "```\n",
        "x\n",
        " [[25  8 60 11 45 27 28 73  1  2]\n",
        " [17  7 20 73 45  8 60 45 73 60]\n",
        " [27 20 80 73  7 28 73 60 73 65]\n",
        " [17 73 45  8 27 73 66  8 46 27]\n",
        " [73 17 60 12 73  8 27 28 73 45]\n",
        " [66 64 17 17 46  7 20 73 60 20]\n",
        " [73 76 20 20 60 73  8 60 80 73]\n",
        " [47 35 43  7 20 17 24 50 37 73]]\n",
        "\n",
        "y\n",
        " [[ 8 60 11 45 27 28 73  1  2  2]\n",
        " [ 7 20 73 45  8 60 45 73 60 45]\n",
        " [20 80 73  7 28 73 60 73 65  7]\n",
        " [73 45  8 27 73 66  8 46 27 65]\n",
        " [17 60 12 73  8 27 28 73 45 27]\n",
        " [64 17 17 46  7 20 73 60 20 80]\n",
        " [76 20 20 60 73  8 60 80 73 17]\n",
        " [35 43  7 20 17 24 50 37 73 36]]\n",
        " ```\n",
        " although the exact numbers may be different. Check to make sure the data is shifted over one step for `y`."
      ]
    },
    {
      "metadata": {
        "id": "rqId_AbSy4RP",
        "colab_type": "text"
      },
      "cell_type": "markdown",
      "source": [
        "---\n",
        "## Defining the network with PyTorch\n",
        "\n",
        "Below is where you'll define the network.\n",
        "\n",
        "<img src=\"https://github.com/udacity/deep-learning-v2-pytorch/blob/master/recurrent-neural-networks/char-rnn/assets/charRNN.png?raw=1\" width=500px>\n",
        "\n",
        "Next, you'll use PyTorch to define the architecture of the network. We start by defining the layers and operations we want. Then, define a method for the forward pass. You've also been given a method for predicting characters."
      ]
    },
    {
      "metadata": {
        "id": "zt76npYOy4RR",
        "colab_type": "text"
      },
      "cell_type": "markdown",
      "source": [
        "### Model Structure\n",
        "\n",
        "In `__init__` the suggested structure is as follows:\n",
        "* Create and store the necessary dictionaries (this has been done for you)\n",
        "* Define an LSTM layer that takes as params: an input size (the number of characters), a hidden layer size `n_hidden`, a number of layers `n_layers`, a dropout probability `drop_prob`, and a batch_first boolean (True, since we are batching)\n",
        "* Define a dropout layer with `dropout_prob`\n",
        "* Define a fully-connected layer with params: input size `n_hidden` and output size (the number of characters)\n",
        "* Finally, initialize the weights (again, this has been given)\n",
        "\n",
        "Note that some parameters have been named and given in the `__init__` function, and we use them and store them by doing something like `self.drop_prob = drop_prob`."
      ]
    },
    {
      "metadata": {
        "id": "-Pm6ZvAuy4RU",
        "colab_type": "text"
      },
      "cell_type": "markdown",
      "source": [
        "---\n",
        "### LSTM Inputs/Outputs\n",
        "\n",
        "You can create a basic [LSTM layer](https://pytorch.org/docs/stable/nn.html#lstm) as follows\n",
        "\n",
        "```python\n",
        "self.lstm = nn.LSTM(input_size, n_hidden, n_layers, \n",
        "                            dropout=drop_prob, batch_first=True)\n",
        "```\n",
        "\n",
        "where `input_size` is the number of characters this cell expects to see as sequential input, and `n_hidden` is the number of units in the hidden layers in the cell. And we can add dropout by adding a dropout parameter with a specified probability; this will automatically add dropout to the inputs or outputs. Finally, in the `forward` function, we can stack up the LSTM cells into layers using `.view`. With this, you pass in a list of cells and it will send the output of one cell into the next cell.\n",
        "\n",
        "We also need to create an initial hidden state of all zeros. This is done like so\n",
        "\n",
        "```python\n",
        "self.init_hidden()\n",
        "```"
      ]
    },
    {
      "metadata": {
        "id": "mvMITJfqy4RW",
        "colab_type": "code",
        "colab": {
          "base_uri": "https://localhost:8080/",
          "height": 33
        },
        "outputId": "b67f2ed8-6bc8-42a4-c476-40885a97d469"
      },
      "cell_type": "code",
      "source": [
        "# check if GPU is available\n",
        "train_on_gpu = torch.cuda.is_available()\n",
        "if(train_on_gpu):\n",
        "    print('Training on GPU!')\n",
        "else: \n",
        "    print('No GPU available, training on CPU; consider making n_epochs very small.')"
      ],
      "execution_count": 25,
      "outputs": [
        {
          "output_type": "stream",
          "text": [
            "Training on GPU!\n"
          ],
          "name": "stdout"
        }
      ]
    },
    {
      "metadata": {
        "id": "vyiVhFHPy4Rg",
        "colab_type": "code",
        "colab": {}
      },
      "cell_type": "code",
      "source": [
        "class CharRNN(nn.Module):\n",
        "    \n",
        "    def __init__(self, tokens, n_hidden=256, n_layers=2,\n",
        "                               drop_prob=0.5, lr=0.001):\n",
        "        super().__init__()\n",
        "        self.drop_prob = drop_prob\n",
        "        self.n_layers = n_layers\n",
        "        self.n_hidden = n_hidden\n",
        "        self.lr = lr\n",
        "        \n",
        "        # creating character dictionaries\n",
        "        self.chars = tokens\n",
        "        self.int2char = dict(enumerate(self.chars))\n",
        "        self.char2int = {ch: ii for ii, ch in self.int2char.items()}\n",
        "        \n",
        "        ## TODO: define the LSTM\n",
        "        self.lstm = nn.LSTM(len(self.chars), n_hidden, n_layers, \n",
        "                            dropout=drop_prob, batch_first=True)\n",
        "        \n",
        "        ## TODO: define a dropout layer\n",
        "        self.dropout = nn.Dropout(drop_prob)\n",
        "        \n",
        "        ## TODO: define the final, fully-connected output layer\n",
        "        self.fc = nn.Linear(n_hidden, len(self.chars))\n",
        "      \n",
        "    \n",
        "    def forward(self, x, hidden):\n",
        "        ''' Forward pass through the network. \n",
        "            These inputs are x, and the hidden/cell state `hidden`. '''\n",
        "                \n",
        "        ## TODO: Get the outputs and the new hidden state from the lstm\n",
        "        r_output, hidden = self.lstm(x, hidden)\n",
        "        \n",
        "        ## TODO: pass through a dropout layer\n",
        "        out = self.dropout(r_output)\n",
        "        \n",
        "        # Stack up LSTM outputs using view\n",
        "        # you may need to use contiguous to reshape the output\n",
        "        out = out.contiguous().view(-1, self.n_hidden)\n",
        "        \n",
        "        ## TODO: put x through the fully-connected layer\n",
        "        out = self.fc(out)\n",
        "        \n",
        "        # return the final output and the hidden state\n",
        "        return out, hidden\n",
        "    \n",
        "    \n",
        "    def init_hidden(self, batch_size):\n",
        "        ''' Initializes hidden state '''\n",
        "        # Create two new tensors with sizes n_layers x batch_size x n_hidden,\n",
        "        # initialized to zero, for hidden state and cell state of LSTM\n",
        "        weight = next(self.parameters()).data\n",
        "        \n",
        "        if (train_on_gpu):\n",
        "            hidden = (weight.new(self.n_layers, batch_size, self.n_hidden).zero_().cuda(),\n",
        "                  weight.new(self.n_layers, batch_size, self.n_hidden).zero_().cuda())\n",
        "        else:\n",
        "            hidden = (weight.new(self.n_layers, batch_size, self.n_hidden).zero_(),\n",
        "                      weight.new(self.n_layers, batch_size, self.n_hidden).zero_())\n",
        "        \n",
        "        return hidden\n",
        "        "
      ],
      "execution_count": 0,
      "outputs": []
    },
    {
      "metadata": {
        "id": "dvNkkzpny4Rs",
        "colab_type": "text"
      },
      "cell_type": "markdown",
      "source": [
        "## Time to train\n",
        "\n",
        "The train function gives us the ability to set the number of epochs, the learning rate, and other parameters.\n",
        "\n",
        "Below we're using an Adam optimizer and cross entropy loss since we are looking at character class scores as output. We calculate the loss and perform backpropagation, as usual!\n",
        "\n",
        "A couple of details about training: \n",
        ">* Within the batch loop, we detach the hidden state from its history; this time setting it equal to a new *tuple* variable because an LSTM has a hidden state that is a tuple of the hidden and cell states.\n",
        "* We use [`clip_grad_norm_`](https://pytorch.org/docs/stable/_modules/torch/nn/utils/clip_grad.html) to help prevent exploding gradients."
      ]
    },
    {
      "metadata": {
        "id": "t39N8G0Ny4Rv",
        "colab_type": "code",
        "colab": {}
      },
      "cell_type": "code",
      "source": [
        "def train(net, data, epochs=10, batch_size=10, seq_length=50, lr=0.001, clip=5, val_frac=0.1, print_every=10):\n",
        "    ''' Training a network \n",
        "    \n",
        "        Arguments\n",
        "        ---------\n",
        "        \n",
        "        net: CharRNN network\n",
        "        data: text data to train the network\n",
        "        epochs: Number of epochs to train\n",
        "        batch_size: Number of mini-sequences per mini-batch, aka batch size\n",
        "        seq_length: Number of character steps per mini-batch\n",
        "        lr: learning rate\n",
        "        clip: gradient clipping\n",
        "        val_frac: Fraction of data to hold out for validation\n",
        "        print_every: Number of steps for printing training and validation loss\n",
        "    \n",
        "    '''\n",
        "    net.train()\n",
        "    \n",
        "    opt = torch.optim.Adam(net.parameters(), lr=lr)\n",
        "    criterion = nn.CrossEntropyLoss()\n",
        "    \n",
        "    # create training and validation data\n",
        "    val_idx = int(len(data)*(1-val_frac))\n",
        "    data, val_data = data[:val_idx], data[val_idx:]\n",
        "    \n",
        "    if(train_on_gpu):\n",
        "        net.cuda()\n",
        "    \n",
        "    counter = 0\n",
        "    n_chars = len(net.chars)\n",
        "    for e in range(epochs):\n",
        "        # initialize hidden state\n",
        "        h = net.init_hidden(batch_size)\n",
        "        \n",
        "        for x, y in get_batches(data, batch_size, seq_length):\n",
        "            counter += 1\n",
        "            \n",
        "            # One-hot encode our data and make them Torch tensors\n",
        "            x = one_hot_encode(x, n_chars)\n",
        "            inputs, targets = torch.from_numpy(x), torch.from_numpy(y)\n",
        "            \n",
        "            if(train_on_gpu):\n",
        "                inputs, targets = inputs.cuda(), targets.cuda()\n",
        "\n",
        "            # Creating new variables for the hidden state, otherwise\n",
        "            # we'd backprop through the entire training history\n",
        "            h = tuple([each.data for each in h])\n",
        "\n",
        "            # zero accumulated gradients\n",
        "            net.zero_grad()\n",
        "            \n",
        "            # get the output from the model\n",
        "            output, h = net(inputs, h)\n",
        "            \n",
        "            # calculate the loss and perform backprop\n",
        "            loss = criterion(output, targets.view(batch_size*seq_length))\n",
        "            loss.backward()\n",
        "            # `clip_grad_norm` helps prevent the exploding gradient problem in RNNs / LSTMs.\n",
        "            nn.utils.clip_grad_norm_(net.parameters(), clip)\n",
        "            opt.step()\n",
        "            \n",
        "            # loss stats\n",
        "            if counter % print_every == 0:\n",
        "                # Get validation loss\n",
        "                val_h = net.init_hidden(batch_size)\n",
        "                val_losses = []\n",
        "                net.eval()\n",
        "                for x, y in get_batches(val_data, batch_size, seq_length):\n",
        "                    # One-hot encode our data and make them Torch tensors\n",
        "                    x = one_hot_encode(x, n_chars)\n",
        "                    x, y = torch.from_numpy(x), torch.from_numpy(y)\n",
        "                    \n",
        "                    # Creating new variables for the hidden state, otherwise\n",
        "                    # we'd backprop through the entire training history\n",
        "                    val_h = tuple([each.data for each in val_h])\n",
        "                    \n",
        "                    inputs, targets = x, y\n",
        "                    if(train_on_gpu):\n",
        "                        inputs, targets = inputs.cuda(), targets.cuda()\n",
        "\n",
        "                    output, val_h = net(inputs, val_h)\n",
        "                    val_loss = criterion(output, targets.view(batch_size*seq_length))\n",
        "                \n",
        "                    val_losses.append(val_loss.item())\n",
        "                \n",
        "                net.train() # reset to train mode after iterationg through validation data\n",
        "                \n",
        "                print(\"Epoch: {}/{}...\".format(e+1, epochs),\n",
        "                      \"Step: {}...\".format(counter),\n",
        "                      \"Loss: {:.4f}...\".format(loss.item()),\n",
        "                      \"Val Loss: {:.4f}\".format(np.mean(val_losses)))"
      ],
      "execution_count": 0,
      "outputs": []
    },
    {
      "metadata": {
        "id": "IiewCD39y4R4",
        "colab_type": "text"
      },
      "cell_type": "markdown",
      "source": [
        "## Instantiating the model\n",
        "\n",
        "Now we can actually train the network. First we'll create the network itself, with some given hyperparameters. Then, define the mini-batches sizes, and start training!"
      ]
    },
    {
      "metadata": {
        "id": "VVMz06jey4R6",
        "colab_type": "code",
        "colab": {
          "base_uri": "https://localhost:8080/",
          "height": 100
        },
        "outputId": "f0a9aff0-ceaf-4b16-d9cd-435f775d50aa"
      },
      "cell_type": "code",
      "source": [
        "# define and print the net\n",
        "n_hidden=512\n",
        "n_layers=2\n",
        "\n",
        "net = CharRNN(chars, n_hidden, n_layers)\n",
        "print(net)"
      ],
      "execution_count": 28,
      "outputs": [
        {
          "output_type": "stream",
          "text": [
            "CharRNN(\n",
            "  (lstm): LSTM(83, 512, num_layers=2, batch_first=True, dropout=0.5)\n",
            "  (dropout): Dropout(p=0.5)\n",
            "  (fc): Linear(in_features=512, out_features=83, bias=True)\n",
            ")\n"
          ],
          "name": "stdout"
        }
      ]
    },
    {
      "metadata": {
        "scrolled": true,
        "id": "qFADuWZ1y4SA",
        "colab_type": "code",
        "colab": {
          "base_uri": "https://localhost:8080/",
          "height": 4667
        },
        "outputId": "2dcd5033-efd0-4cd5-a001-30d45529eb41"
      },
      "cell_type": "code",
      "source": [
        "batch_size = 128\n",
        "seq_length = 100\n",
        "n_epochs = 20 # start smaller if you are just testing initial behavior\n",
        "\n",
        "# train the model\n",
        "train(net, encoded, epochs=n_epochs, batch_size=batch_size, seq_length=seq_length, lr=0.001, print_every=10)"
      ],
      "execution_count": 29,
      "outputs": [
        {
          "output_type": "stream",
          "text": [
            "Epoch: 1/20... Step: 10... Loss: 3.2501... Val Loss: 3.1960\n",
            "Epoch: 1/20... Step: 20... Loss: 3.1429... Val Loss: 3.1292\n",
            "Epoch: 1/20... Step: 30... Loss: 3.1409... Val Loss: 3.1219\n",
            "Epoch: 1/20... Step: 40... Loss: 3.1117... Val Loss: 3.1184\n",
            "Epoch: 1/20... Step: 50... Loss: 3.1420... Val Loss: 3.1160\n",
            "Epoch: 1/20... Step: 60... Loss: 3.1140... Val Loss: 3.1126\n",
            "Epoch: 1/20... Step: 70... Loss: 3.1010... Val Loss: 3.1074\n",
            "Epoch: 1/20... Step: 80... Loss: 3.1047... Val Loss: 3.0933\n",
            "Epoch: 1/20... Step: 90... Loss: 3.0817... Val Loss: 3.0601\n",
            "Epoch: 1/20... Step: 100... Loss: 3.0348... Val Loss: 3.0137\n",
            "Epoch: 1/20... Step: 110... Loss: 2.9362... Val Loss: 2.9005\n",
            "Epoch: 1/20... Step: 120... Loss: 2.8000... Val Loss: 2.8014\n",
            "Epoch: 1/20... Step: 130... Loss: 2.7075... Val Loss: 2.6619\n",
            "Epoch: 2/20... Step: 140... Loss: 2.6340... Val Loss: 2.5965\n",
            "Epoch: 2/20... Step: 150... Loss: 2.5630... Val Loss: 2.5114\n",
            "Epoch: 2/20... Step: 160... Loss: 2.4994... Val Loss: 2.4653\n",
            "Epoch: 2/20... Step: 170... Loss: 2.4342... Val Loss: 2.4170\n",
            "Epoch: 2/20... Step: 180... Loss: 2.4084... Val Loss: 2.3859\n",
            "Epoch: 2/20... Step: 190... Loss: 2.3588... Val Loss: 2.3555\n",
            "Epoch: 2/20... Step: 200... Loss: 2.3478... Val Loss: 2.3241\n",
            "Epoch: 2/20... Step: 210... Loss: 2.3125... Val Loss: 2.2909\n",
            "Epoch: 2/20... Step: 220... Loss: 2.2719... Val Loss: 2.2589\n",
            "Epoch: 2/20... Step: 230... Loss: 2.2642... Val Loss: 2.2409\n",
            "Epoch: 2/20... Step: 240... Loss: 2.2388... Val Loss: 2.2063\n",
            "Epoch: 2/20... Step: 250... Loss: 2.1822... Val Loss: 2.1871\n",
            "Epoch: 2/20... Step: 260... Loss: 2.1455... Val Loss: 2.1574\n",
            "Epoch: 2/20... Step: 270... Loss: 2.1591... Val Loss: 2.1360\n",
            "Epoch: 3/20... Step: 280... Loss: 2.1481... Val Loss: 2.1096\n",
            "Epoch: 3/20... Step: 290... Loss: 2.1264... Val Loss: 2.0864\n",
            "Epoch: 3/20... Step: 300... Loss: 2.0954... Val Loss: 2.0722\n",
            "Epoch: 3/20... Step: 310... Loss: 2.0655... Val Loss: 2.0528\n",
            "Epoch: 3/20... Step: 320... Loss: 2.0342... Val Loss: 2.0279\n",
            "Epoch: 3/20... Step: 330... Loss: 2.0082... Val Loss: 2.0187\n",
            "Epoch: 3/20... Step: 340... Loss: 2.0289... Val Loss: 1.9955\n",
            "Epoch: 3/20... Step: 350... Loss: 2.0081... Val Loss: 1.9764\n",
            "Epoch: 3/20... Step: 360... Loss: 1.9420... Val Loss: 1.9598\n",
            "Epoch: 3/20... Step: 370... Loss: 1.9699... Val Loss: 1.9417\n",
            "Epoch: 3/20... Step: 380... Loss: 1.9555... Val Loss: 1.9248\n",
            "Epoch: 3/20... Step: 390... Loss: 1.9303... Val Loss: 1.9144\n",
            "Epoch: 3/20... Step: 400... Loss: 1.8981... Val Loss: 1.9007\n",
            "Epoch: 3/20... Step: 410... Loss: 1.9178... Val Loss: 1.8821\n",
            "Epoch: 4/20... Step: 420... Loss: 1.8978... Val Loss: 1.8713\n",
            "Epoch: 4/20... Step: 430... Loss: 1.8815... Val Loss: 1.8548\n",
            "Epoch: 4/20... Step: 440... Loss: 1.8733... Val Loss: 1.8457\n",
            "Epoch: 4/20... Step: 450... Loss: 1.8124... Val Loss: 1.8320\n",
            "Epoch: 4/20... Step: 460... Loss: 1.7940... Val Loss: 1.8175\n",
            "Epoch: 4/20... Step: 470... Loss: 1.8389... Val Loss: 1.8093\n",
            "Epoch: 4/20... Step: 480... Loss: 1.8162... Val Loss: 1.7934\n",
            "Epoch: 4/20... Step: 490... Loss: 1.8118... Val Loss: 1.7832\n",
            "Epoch: 4/20... Step: 500... Loss: 1.8121... Val Loss: 1.7715\n",
            "Epoch: 4/20... Step: 510... Loss: 1.7918... Val Loss: 1.7627\n",
            "Epoch: 4/20... Step: 520... Loss: 1.7953... Val Loss: 1.7525\n",
            "Epoch: 4/20... Step: 530... Loss: 1.7600... Val Loss: 1.7428\n",
            "Epoch: 4/20... Step: 540... Loss: 1.7275... Val Loss: 1.7336\n",
            "Epoch: 4/20... Step: 550... Loss: 1.7696... Val Loss: 1.7249\n",
            "Epoch: 5/20... Step: 560... Loss: 1.7403... Val Loss: 1.7137\n",
            "Epoch: 5/20... Step: 570... Loss: 1.7221... Val Loss: 1.7033\n",
            "Epoch: 5/20... Step: 580... Loss: 1.7086... Val Loss: 1.6984\n",
            "Epoch: 5/20... Step: 590... Loss: 1.7172... Val Loss: 1.6873\n",
            "Epoch: 5/20... Step: 600... Loss: 1.6992... Val Loss: 1.6836\n",
            "Epoch: 5/20... Step: 610... Loss: 1.6846... Val Loss: 1.6740\n",
            "Epoch: 5/20... Step: 620... Loss: 1.6807... Val Loss: 1.6711\n",
            "Epoch: 5/20... Step: 630... Loss: 1.6960... Val Loss: 1.6567\n",
            "Epoch: 5/20... Step: 640... Loss: 1.6666... Val Loss: 1.6505\n",
            "Epoch: 5/20... Step: 650... Loss: 1.6600... Val Loss: 1.6461\n",
            "Epoch: 5/20... Step: 660... Loss: 1.6400... Val Loss: 1.6392\n",
            "Epoch: 5/20... Step: 670... Loss: 1.6615... Val Loss: 1.6345\n",
            "Epoch: 5/20... Step: 680... Loss: 1.6637... Val Loss: 1.6265\n",
            "Epoch: 5/20... Step: 690... Loss: 1.6318... Val Loss: 1.6226\n",
            "Epoch: 6/20... Step: 700... Loss: 1.6303... Val Loss: 1.6143\n",
            "Epoch: 6/20... Step: 710... Loss: 1.6148... Val Loss: 1.6087\n",
            "Epoch: 6/20... Step: 720... Loss: 1.6095... Val Loss: 1.6076\n",
            "Epoch: 6/20... Step: 730... Loss: 1.6199... Val Loss: 1.5973\n",
            "Epoch: 6/20... Step: 740... Loss: 1.5887... Val Loss: 1.5956\n",
            "Epoch: 6/20... Step: 750... Loss: 1.5750... Val Loss: 1.5926\n",
            "Epoch: 6/20... Step: 760... Loss: 1.6114... Val Loss: 1.5858\n",
            "Epoch: 6/20... Step: 770... Loss: 1.5914... Val Loss: 1.5828\n",
            "Epoch: 6/20... Step: 780... Loss: 1.5764... Val Loss: 1.5738\n",
            "Epoch: 6/20... Step: 790... Loss: 1.5673... Val Loss: 1.5703\n",
            "Epoch: 6/20... Step: 800... Loss: 1.5834... Val Loss: 1.5643\n",
            "Epoch: 6/20... Step: 810... Loss: 1.5656... Val Loss: 1.5618\n",
            "Epoch: 6/20... Step: 820... Loss: 1.5379... Val Loss: 1.5536\n",
            "Epoch: 6/20... Step: 830... Loss: 1.5794... Val Loss: 1.5498\n",
            "Epoch: 7/20... Step: 840... Loss: 1.5270... Val Loss: 1.5524\n",
            "Epoch: 7/20... Step: 850... Loss: 1.5513... Val Loss: 1.5453\n",
            "Epoch: 7/20... Step: 860... Loss: 1.5260... Val Loss: 1.5382\n",
            "Epoch: 7/20... Step: 870... Loss: 1.5446... Val Loss: 1.5332\n",
            "Epoch: 7/20... Step: 880... Loss: 1.5458... Val Loss: 1.5332\n",
            "Epoch: 7/20... Step: 890... Loss: 1.5451... Val Loss: 1.5292\n",
            "Epoch: 7/20... Step: 900... Loss: 1.5201... Val Loss: 1.5269\n",
            "Epoch: 7/20... Step: 910... Loss: 1.4836... Val Loss: 1.5214\n",
            "Epoch: 7/20... Step: 920... Loss: 1.5187... Val Loss: 1.5163\n",
            "Epoch: 7/20... Step: 930... Loss: 1.5105... Val Loss: 1.5125\n",
            "Epoch: 7/20... Step: 940... Loss: 1.5082... Val Loss: 1.5092\n",
            "Epoch: 7/20... Step: 950... Loss: 1.5225... Val Loss: 1.5061\n",
            "Epoch: 7/20... Step: 960... Loss: 1.5201... Val Loss: 1.5029\n",
            "Epoch: 7/20... Step: 970... Loss: 1.5206... Val Loss: 1.5027\n",
            "Epoch: 8/20... Step: 980... Loss: 1.5006... Val Loss: 1.4956\n",
            "Epoch: 8/20... Step: 990... Loss: 1.4935... Val Loss: 1.4925\n",
            "Epoch: 8/20... Step: 1000... Loss: 1.4848... Val Loss: 1.4913\n",
            "Epoch: 8/20... Step: 1010... Loss: 1.5241... Val Loss: 1.4874\n",
            "Epoch: 8/20... Step: 1020... Loss: 1.4944... Val Loss: 1.4849\n",
            "Epoch: 8/20... Step: 1030... Loss: 1.4747... Val Loss: 1.4815\n",
            "Epoch: 8/20... Step: 1040... Loss: 1.4777... Val Loss: 1.4810\n",
            "Epoch: 8/20... Step: 1050... Loss: 1.4701... Val Loss: 1.4780\n",
            "Epoch: 8/20... Step: 1060... Loss: 1.4659... Val Loss: 1.4726\n",
            "Epoch: 8/20... Step: 1070... Loss: 1.4781... Val Loss: 1.4727\n",
            "Epoch: 8/20... Step: 1080... Loss: 1.4722... Val Loss: 1.4680\n",
            "Epoch: 8/20... Step: 1090... Loss: 1.4539... Val Loss: 1.4638\n",
            "Epoch: 8/20... Step: 1100... Loss: 1.4557... Val Loss: 1.4586\n",
            "Epoch: 8/20... Step: 1110... Loss: 1.4548... Val Loss: 1.4563\n",
            "Epoch: 9/20... Step: 1120... Loss: 1.4734... Val Loss: 1.4561\n",
            "Epoch: 9/20... Step: 1130... Loss: 1.4619... Val Loss: 1.4523\n",
            "Epoch: 9/20... Step: 1140... Loss: 1.4592... Val Loss: 1.4509\n",
            "Epoch: 9/20... Step: 1150... Loss: 1.4788... Val Loss: 1.4516\n",
            "Epoch: 9/20... Step: 1160... Loss: 1.4346... Val Loss: 1.4508\n",
            "Epoch: 9/20... Step: 1170... Loss: 1.4448... Val Loss: 1.4447\n",
            "Epoch: 9/20... Step: 1180... Loss: 1.4330... Val Loss: 1.4427\n",
            "Epoch: 9/20... Step: 1190... Loss: 1.4647... Val Loss: 1.4418\n",
            "Epoch: 9/20... Step: 1200... Loss: 1.4182... Val Loss: 1.4369\n",
            "Epoch: 9/20... Step: 1210... Loss: 1.4263... Val Loss: 1.4391\n",
            "Epoch: 9/20... Step: 1220... Loss: 1.4220... Val Loss: 1.4355\n",
            "Epoch: 9/20... Step: 1230... Loss: 1.4072... Val Loss: 1.4293\n",
            "Epoch: 9/20... Step: 1240... Loss: 1.4166... Val Loss: 1.4269\n",
            "Epoch: 9/20... Step: 1250... Loss: 1.4265... Val Loss: 1.4235\n",
            "Epoch: 10/20... Step: 1260... Loss: 1.4329... Val Loss: 1.4282\n",
            "Epoch: 10/20... Step: 1270... Loss: 1.4297... Val Loss: 1.4261\n",
            "Epoch: 10/20... Step: 1280... Loss: 1.4430... Val Loss: 1.4203\n",
            "Epoch: 10/20... Step: 1290... Loss: 1.4182... Val Loss: 1.4249\n",
            "Epoch: 10/20... Step: 1300... Loss: 1.4058... Val Loss: 1.4210\n",
            "Epoch: 10/20... Step: 1310... Loss: 1.4102... Val Loss: 1.4205\n",
            "Epoch: 10/20... Step: 1320... Loss: 1.3840... Val Loss: 1.4205\n",
            "Epoch: 10/20... Step: 1330... Loss: 1.3919... Val Loss: 1.4135\n",
            "Epoch: 10/20... Step: 1340... Loss: 1.3792... Val Loss: 1.4101\n",
            "Epoch: 10/20... Step: 1350... Loss: 1.3817... Val Loss: 1.4115\n",
            "Epoch: 10/20... Step: 1360... Loss: 1.3853... Val Loss: 1.4085\n",
            "Epoch: 10/20... Step: 1370... Loss: 1.3778... Val Loss: 1.4037\n",
            "Epoch: 10/20... Step: 1380... Loss: 1.4103... Val Loss: 1.3989\n",
            "Epoch: 10/20... Step: 1390... Loss: 1.4264... Val Loss: 1.4008\n",
            "Epoch: 11/20... Step: 1400... Loss: 1.4231... Val Loss: 1.4024\n",
            "Epoch: 11/20... Step: 1410... Loss: 1.4307... Val Loss: 1.4012\n",
            "Epoch: 11/20... Step: 1420... Loss: 1.4175... Val Loss: 1.3988\n",
            "Epoch: 11/20... Step: 1430... Loss: 1.3950... Val Loss: 1.4018\n",
            "Epoch: 11/20... Step: 1440... Loss: 1.4100... Val Loss: 1.3951\n",
            "Epoch: 11/20... Step: 1450... Loss: 1.3348... Val Loss: 1.3959\n",
            "Epoch: 11/20... Step: 1460... Loss: 1.3751... Val Loss: 1.3932\n",
            "Epoch: 11/20... Step: 1470... Loss: 1.3583... Val Loss: 1.3925\n",
            "Epoch: 11/20... Step: 1480... Loss: 1.3709... Val Loss: 1.3860\n",
            "Epoch: 11/20... Step: 1490... Loss: 1.3598... Val Loss: 1.3889\n",
            "Epoch: 11/20... Step: 1500... Loss: 1.3507... Val Loss: 1.3887\n",
            "Epoch: 11/20... Step: 1510... Loss: 1.3330... Val Loss: 1.3835\n",
            "Epoch: 11/20... Step: 1520... Loss: 1.3768... Val Loss: 1.3802\n",
            "Epoch: 12/20... Step: 1530... Loss: 1.4253... Val Loss: 1.3829\n",
            "Epoch: 12/20... Step: 1540... Loss: 1.3894... Val Loss: 1.3803\n",
            "Epoch: 12/20... Step: 1550... Loss: 1.3829... Val Loss: 1.3842\n",
            "Epoch: 12/20... Step: 1560... Loss: 1.3924... Val Loss: 1.3777\n",
            "Epoch: 12/20... Step: 1570... Loss: 1.3427... Val Loss: 1.3814\n",
            "Epoch: 12/20... Step: 1580... Loss: 1.3185... Val Loss: 1.3772\n",
            "Epoch: 12/20... Step: 1590... Loss: 1.3175... Val Loss: 1.3757\n",
            "Epoch: 12/20... Step: 1600... Loss: 1.3461... Val Loss: 1.3760\n",
            "Epoch: 12/20... Step: 1610... Loss: 1.3328... Val Loss: 1.3752\n",
            "Epoch: 12/20... Step: 1620... Loss: 1.3356... Val Loss: 1.3685\n",
            "Epoch: 12/20... Step: 1630... Loss: 1.3496... Val Loss: 1.3709\n",
            "Epoch: 12/20... Step: 1640... Loss: 1.3394... Val Loss: 1.3702\n",
            "Epoch: 12/20... Step: 1650... Loss: 1.3134... Val Loss: 1.3670\n",
            "Epoch: 12/20... Step: 1660... Loss: 1.3680... Val Loss: 1.3599\n",
            "Epoch: 13/20... Step: 1670... Loss: 1.3352... Val Loss: 1.3653\n",
            "Epoch: 13/20... Step: 1680... Loss: 1.3493... Val Loss: 1.3609\n",
            "Epoch: 13/20... Step: 1690... Loss: 1.3348... Val Loss: 1.3636\n",
            "Epoch: 13/20... Step: 1700... Loss: 1.3272... Val Loss: 1.3643\n",
            "Epoch: 13/20... Step: 1710... Loss: 1.3056... Val Loss: 1.3653\n",
            "Epoch: 13/20... Step: 1720... Loss: 1.3086... Val Loss: 1.3601\n",
            "Epoch: 13/20... Step: 1730... Loss: 1.3536... Val Loss: 1.3579\n",
            "Epoch: 13/20... Step: 1740... Loss: 1.3232... Val Loss: 1.3612\n",
            "Epoch: 13/20... Step: 1750... Loss: 1.2809... Val Loss: 1.3607\n",
            "Epoch: 13/20... Step: 1760... Loss: 1.3280... Val Loss: 1.3526\n",
            "Epoch: 13/20... Step: 1770... Loss: 1.3464... Val Loss: 1.3533\n",
            "Epoch: 13/20... Step: 1780... Loss: 1.3136... Val Loss: 1.3519\n",
            "Epoch: 13/20... Step: 1790... Loss: 1.2953... Val Loss: 1.3500\n",
            "Epoch: 13/20... Step: 1800... Loss: 1.3230... Val Loss: 1.3420\n",
            "Epoch: 14/20... Step: 1810... Loss: 1.3262... Val Loss: 1.3506\n",
            "Epoch: 14/20... Step: 1820... Loss: 1.3140... Val Loss: 1.3462\n",
            "Epoch: 14/20... Step: 1830... Loss: 1.3322... Val Loss: 1.3459\n",
            "Epoch: 14/20... Step: 1840... Loss: 1.2798... Val Loss: 1.3439\n",
            "Epoch: 14/20... Step: 1850... Loss: 1.2672... Val Loss: 1.3483\n",
            "Epoch: 14/20... Step: 1860... Loss: 1.3235... Val Loss: 1.3448\n",
            "Epoch: 14/20... Step: 1870... Loss: 1.3309... Val Loss: 1.3402\n",
            "Epoch: 14/20... Step: 1880... Loss: 1.3104... Val Loss: 1.3400\n",
            "Epoch: 14/20... Step: 1890... Loss: 1.3303... Val Loss: 1.3411\n",
            "Epoch: 14/20... Step: 1900... Loss: 1.3086... Val Loss: 1.3353\n",
            "Epoch: 14/20... Step: 1910... Loss: 1.3056... Val Loss: 1.3315\n",
            "Epoch: 14/20... Step: 1920... Loss: 1.3055... Val Loss: 1.3295\n",
            "Epoch: 14/20... Step: 1930... Loss: 1.2654... Val Loss: 1.3305\n",
            "Epoch: 14/20... Step: 1940... Loss: 1.3233... Val Loss: 1.3234\n",
            "Epoch: 15/20... Step: 1950... Loss: 1.3002... Val Loss: 1.3393\n",
            "Epoch: 15/20... Step: 1960... Loss: 1.2945... Val Loss: 1.3271\n",
            "Epoch: 15/20... Step: 1970... Loss: 1.2859... Val Loss: 1.3278\n",
            "Epoch: 15/20... Step: 1980... Loss: 1.2744... Val Loss: 1.3292\n",
            "Epoch: 15/20... Step: 1990... Loss: 1.2728... Val Loss: 1.3279\n",
            "Epoch: 15/20... Step: 2000... Loss: 1.2650... Val Loss: 1.3218\n",
            "Epoch: 15/20... Step: 2010... Loss: 1.2811... Val Loss: 1.3168\n",
            "Epoch: 15/20... Step: 2020... Loss: 1.2934... Val Loss: 1.3229\n",
            "Epoch: 15/20... Step: 2030... Loss: 1.2670... Val Loss: 1.3198\n",
            "Epoch: 15/20... Step: 2040... Loss: 1.2881... Val Loss: 1.3162\n",
            "Epoch: 15/20... Step: 2050... Loss: 1.2641... Val Loss: 1.3188\n",
            "Epoch: 15/20... Step: 2060... Loss: 1.2833... Val Loss: 1.3153\n",
            "Epoch: 15/20... Step: 2070... Loss: 1.2841... Val Loss: 1.3162\n",
            "Epoch: 15/20... Step: 2080... Loss: 1.2761... Val Loss: 1.3094\n",
            "Epoch: 16/20... Step: 2090... Loss: 1.2862... Val Loss: 1.3149\n",
            "Epoch: 16/20... Step: 2100... Loss: 1.2678... Val Loss: 1.3096\n",
            "Epoch: 16/20... Step: 2110... Loss: 1.2647... Val Loss: 1.3115\n",
            "Epoch: 16/20... Step: 2120... Loss: 1.2806... Val Loss: 1.3107\n",
            "Epoch: 16/20... Step: 2130... Loss: 1.2440... Val Loss: 1.3120\n",
            "Epoch: 16/20... Step: 2140... Loss: 1.2607... Val Loss: 1.3050\n",
            "Epoch: 16/20... Step: 2150... Loss: 1.2810... Val Loss: 1.3066\n",
            "Epoch: 16/20... Step: 2160... Loss: 1.2558... Val Loss: 1.3079\n",
            "Epoch: 16/20... Step: 2170... Loss: 1.2559... Val Loss: 1.3098\n",
            "Epoch: 16/20... Step: 2180... Loss: 1.2484... Val Loss: 1.3031\n",
            "Epoch: 16/20... Step: 2190... Loss: 1.2721... Val Loss: 1.2993\n",
            "Epoch: 16/20... Step: 2200... Loss: 1.2472... Val Loss: 1.3096\n",
            "Epoch: 16/20... Step: 2210... Loss: 1.2174... Val Loss: 1.3062\n",
            "Epoch: 16/20... Step: 2220... Loss: 1.2649... Val Loss: 1.2996\n",
            "Epoch: 17/20... Step: 2230... Loss: 1.2411... Val Loss: 1.3048\n",
            "Epoch: 17/20... Step: 2240... Loss: 1.2447... Val Loss: 1.3017\n",
            "Epoch: 17/20... Step: 2250... Loss: 1.2342... Val Loss: 1.3009\n",
            "Epoch: 17/20... Step: 2260... Loss: 1.2541... Val Loss: 1.2987\n",
            "Epoch: 17/20... Step: 2270... Loss: 1.2537... Val Loss: 1.3019\n",
            "Epoch: 17/20... Step: 2280... Loss: 1.2619... Val Loss: 1.2978\n",
            "Epoch: 17/20... Step: 2290... Loss: 1.2518... Val Loss: 1.2899\n",
            "Epoch: 17/20... Step: 2300... Loss: 1.2278... Val Loss: 1.2961\n",
            "Epoch: 17/20... Step: 2310... Loss: 1.2383... Val Loss: 1.2974\n",
            "Epoch: 17/20... Step: 2320... Loss: 1.2452... Val Loss: 1.3036\n",
            "Epoch: 17/20... Step: 2330... Loss: 1.2286... Val Loss: 1.2898\n",
            "Epoch: 17/20... Step: 2340... Loss: 1.2598... Val Loss: 1.2864\n",
            "Epoch: 17/20... Step: 2350... Loss: 1.2563... Val Loss: 1.2880\n",
            "Epoch: 17/20... Step: 2360... Loss: 1.2597... Val Loss: 1.2887\n",
            "Epoch: 18/20... Step: 2370... Loss: 1.2278... Val Loss: 1.2847\n",
            "Epoch: 18/20... Step: 2380... Loss: 1.2268... Val Loss: 1.2907\n",
            "Epoch: 18/20... Step: 2390... Loss: 1.2393... Val Loss: 1.2919\n",
            "Epoch: 18/20... Step: 2400... Loss: 1.2589... Val Loss: 1.2918\n",
            "Epoch: 18/20... Step: 2410... Loss: 1.2544... Val Loss: 1.2938\n",
            "Epoch: 18/20... Step: 2420... Loss: 1.2285... Val Loss: 1.2838\n",
            "Epoch: 18/20... Step: 2430... Loss: 1.2457... Val Loss: 1.2845\n",
            "Epoch: 18/20... Step: 2440... Loss: 1.2243... Val Loss: 1.2875\n",
            "Epoch: 18/20... Step: 2450... Loss: 1.2199... Val Loss: 1.2860\n",
            "Epoch: 18/20... Step: 2460... Loss: 1.2361... Val Loss: 1.2769\n",
            "Epoch: 18/20... Step: 2470... Loss: 1.2187... Val Loss: 1.2761\n",
            "Epoch: 18/20... Step: 2480... Loss: 1.2162... Val Loss: 1.2849\n",
            "Epoch: 18/20... Step: 2490... Loss: 1.2099... Val Loss: 1.2812\n",
            "Epoch: 18/20... Step: 2500... Loss: 1.2227... Val Loss: 1.2810\n",
            "Epoch: 19/20... Step: 2510... Loss: 1.2141... Val Loss: 1.2808\n",
            "Epoch: 19/20... Step: 2520... Loss: 1.2339... Val Loss: 1.2829\n",
            "Epoch: 19/20... Step: 2530... Loss: 1.2428... Val Loss: 1.2828\n",
            "Epoch: 19/20... Step: 2540... Loss: 1.2471... Val Loss: 1.2821\n",
            "Epoch: 19/20... Step: 2550... Loss: 1.2083... Val Loss: 1.2842\n",
            "Epoch: 19/20... Step: 2560... Loss: 1.2252... Val Loss: 1.2773\n",
            "Epoch: 19/20... Step: 2570... Loss: 1.2120... Val Loss: 1.2796\n",
            "Epoch: 19/20... Step: 2580... Loss: 1.2490... Val Loss: 1.2775\n",
            "Epoch: 19/20... Step: 2590... Loss: 1.2132... Val Loss: 1.2745\n",
            "Epoch: 19/20... Step: 2600... Loss: 1.2128... Val Loss: 1.2764\n",
            "Epoch: 19/20... Step: 2610... Loss: 1.2232... Val Loss: 1.2680\n",
            "Epoch: 19/20... Step: 2620... Loss: 1.2035... Val Loss: 1.2819\n",
            "Epoch: 19/20... Step: 2630... Loss: 1.2037... Val Loss: 1.2760\n",
            "Epoch: 19/20... Step: 2640... Loss: 1.2242... Val Loss: 1.2667\n",
            "Epoch: 20/20... Step: 2650... Loss: 1.2140... Val Loss: 1.2719\n",
            "Epoch: 20/20... Step: 2660... Loss: 1.2231... Val Loss: 1.2719\n",
            "Epoch: 20/20... Step: 2670... Loss: 1.2294... Val Loss: 1.2654\n",
            "Epoch: 20/20... Step: 2680... Loss: 1.2214... Val Loss: 1.2715\n",
            "Epoch: 20/20... Step: 2690... Loss: 1.2050... Val Loss: 1.2795\n",
            "Epoch: 20/20... Step: 2700... Loss: 1.2208... Val Loss: 1.2628\n",
            "Epoch: 20/20... Step: 2710... Loss: 1.1921... Val Loss: 1.2692\n",
            "Epoch: 20/20... Step: 2720... Loss: 1.1874... Val Loss: 1.2669\n",
            "Epoch: 20/20... Step: 2730... Loss: 1.1870... Val Loss: 1.2708\n",
            "Epoch: 20/20... Step: 2740... Loss: 1.1873... Val Loss: 1.2750\n",
            "Epoch: 20/20... Step: 2750... Loss: 1.1913... Val Loss: 1.2651\n",
            "Epoch: 20/20... Step: 2760... Loss: 1.1781... Val Loss: 1.2653\n",
            "Epoch: 20/20... Step: 2770... Loss: 1.2197... Val Loss: 1.2723\n",
            "Epoch: 20/20... Step: 2780... Loss: 1.2469... Val Loss: 1.2679\n"
          ],
          "name": "stdout"
        }
      ]
    },
    {
      "metadata": {
        "id": "RwL-u25zy4SH",
        "colab_type": "text"
      },
      "cell_type": "markdown",
      "source": [
        "## Getting the best model\n",
        "\n",
        "To set your hyperparameters to get the best performance, you'll want to watch the training and validation losses. If your training loss is much lower than the validation loss, you're overfitting. Increase regularization (more dropout) or use a smaller network. If the training and validation losses are close, you're underfitting so you can increase the size of the network."
      ]
    },
    {
      "metadata": {
        "id": "SWR2j7DJy4SJ",
        "colab_type": "text"
      },
      "cell_type": "markdown",
      "source": [
        "## Hyperparameters\n",
        "\n",
        "Here are the hyperparameters for the network.\n",
        "\n",
        "In defining the model:\n",
        "* `n_hidden` - The number of units in the hidden layers.\n",
        "* `n_layers` - Number of hidden LSTM layers to use.\n",
        "\n",
        "We assume that dropout probability and learning rate will be kept at the default, in this example.\n",
        "\n",
        "And in training:\n",
        "* `batch_size` - Number of sequences running through the network in one pass.\n",
        "* `seq_length` - Number of characters in the sequence the network is trained on. Larger is better typically, the network will learn more long range dependencies. But it takes longer to train. 100 is typically a good number here.\n",
        "* `lr` - Learning rate for training\n",
        "\n",
        "Here's some good advice from Andrej Karpathy on training the network. I'm going to copy it in here for your benefit, but also link to [where it originally came from](https://github.com/karpathy/char-rnn#tips-and-tricks).\n",
        "\n",
        "> ## Tips and Tricks\n",
        "\n",
        ">### Monitoring Validation Loss vs. Training Loss\n",
        ">If you're somewhat new to Machine Learning or Neural Networks it can take a bit of expertise to get good models. The most important quantity to keep track of is the difference between your training loss (printed during training) and the validation loss (printed once in a while when the RNN is run on the validation data (by default every 1000 iterations)). In particular:\n",
        "\n",
        "> - If your training loss is much lower than validation loss then this means the network might be **overfitting**. Solutions to this are to decrease your network size, or to increase dropout. For example you could try dropout of 0.5 and so on.\n",
        "> - If your training/validation loss are about equal then your model is **underfitting**. Increase the size of your model (either number of layers or the raw number of neurons per layer)\n",
        "\n",
        "> ### Approximate number of parameters\n",
        "\n",
        "> The two most important parameters that control the model are `n_hidden` and `n_layers`. I would advise that you always use `n_layers` of either 2/3. The `n_hidden` can be adjusted based on how much data you have. The two important quantities to keep track of here are:\n",
        "\n",
        "> - The number of parameters in your model. This is printed when you start training.\n",
        "> - The size of your dataset. 1MB file is approximately 1 million characters.\n",
        "\n",
        ">These two should be about the same order of magnitude. It's a little tricky to tell. Here are some examples:\n",
        "\n",
        "> - I have a 100MB dataset and I'm using the default parameter settings (which currently print 150K parameters). My data size is significantly larger (100 mil >> 0.15 mil), so I expect to heavily underfit. I am thinking I can comfortably afford to make `n_hidden` larger.\n",
        "> - I have a 10MB dataset and running a 10 million parameter model. I'm slightly nervous and I'm carefully monitoring my validation loss. If it's larger than my training loss then I may want to try to increase dropout a bit and see if that helps the validation loss.\n",
        "\n",
        "> ### Best models strategy\n",
        "\n",
        ">The winning strategy to obtaining very good models (if you have the compute time) is to always err on making the network larger (as large as you're willing to wait for it to compute) and then try different dropout values (between 0,1). Whatever model has the best validation performance (the loss, written in the checkpoint filename, low is good) is the one you should use in the end.\n",
        "\n",
        ">It is very common in deep learning to run many different models with many different hyperparameter settings, and in the end take whatever checkpoint gave the best validation performance.\n",
        "\n",
        ">By the way, the size of your training and validation splits are also parameters. Make sure you have a decent amount of data in your validation set or otherwise the validation performance will be noisy and not very informative."
      ]
    },
    {
      "metadata": {
        "id": "XBBmyhjUy4SK",
        "colab_type": "text"
      },
      "cell_type": "markdown",
      "source": [
        "## Checkpoint\n",
        "\n",
        "After training, we'll save the model so we can load it again later if we need too. Here I'm saving the parameters needed to create the same architecture, the hidden layer hyperparameters and the text characters."
      ]
    },
    {
      "metadata": {
        "id": "PXJMLj_3y4SL",
        "colab_type": "code",
        "colab": {}
      },
      "cell_type": "code",
      "source": [
        "# change the name, for saving multiple files\n",
        "model_name = 'rnn_20_epoch.net'\n",
        "\n",
        "checkpoint = {'n_hidden': net.n_hidden,\n",
        "              'n_layers': net.n_layers,\n",
        "              'state_dict': net.state_dict(),\n",
        "              'tokens': net.chars}\n",
        "\n",
        "with open(model_name, 'wb') as f:\n",
        "    torch.save(checkpoint, f)"
      ],
      "execution_count": 0,
      "outputs": []
    },
    {
      "metadata": {
        "id": "a8Q2EGTLy4SS",
        "colab_type": "text"
      },
      "cell_type": "markdown",
      "source": [
        "---\n",
        "## Making Predictions\n",
        "\n",
        "Now that the model is trained, we'll want to sample from it and make predictions about next characters! To sample, we pass in a character and have the network predict the next character. Then we take that character, pass it back in, and get another predicted character. Just keep doing this and you'll generate a bunch of text!\n",
        "\n",
        "### A note on the `predict`  function\n",
        "\n",
        "The output of our RNN is from a fully-connected layer and it outputs a **distribution of next-character scores**.\n",
        "\n",
        "> To actually get the next character, we apply a softmax function, which gives us a *probability* distribution that we can then sample to predict the next character.\n",
        "\n",
        "### Top K sampling\n",
        "\n",
        "Our predictions come from a categorical probability distribution over all the possible characters. We can make the sample text and make it more reasonable to handle (with less variables) by only considering some $K$ most probable characters. This will prevent the network from giving us completely absurd characters while allowing it to introduce some noise and randomness into the sampled text. Read more about [topk, here](https://pytorch.org/docs/stable/torch.html#torch.topk).\n"
      ]
    },
    {
      "metadata": {
        "id": "M8y-AxgZy4SU",
        "colab_type": "code",
        "colab": {}
      },
      "cell_type": "code",
      "source": [
        "def predict(net, char, h=None, top_k=None):\n",
        "        ''' Given a character, predict the next character.\n",
        "            Returns the predicted character and the hidden state.\n",
        "        '''\n",
        "        \n",
        "        # tensor inputs\n",
        "        x = np.array([[net.char2int[char]]])\n",
        "        x = one_hot_encode(x, len(net.chars))\n",
        "        inputs = torch.from_numpy(x)\n",
        "        \n",
        "        if(train_on_gpu):\n",
        "            inputs = inputs.cuda()\n",
        "        \n",
        "        # detach hidden state from history\n",
        "        h = tuple([each.data for each in h])\n",
        "        # get the output of the model\n",
        "        out, h = net(inputs, h)\n",
        "\n",
        "        # get the character probabilities\n",
        "        p = F.softmax(out, dim=1).data\n",
        "        if(train_on_gpu):\n",
        "            p = p.cpu() # move to cpu\n",
        "        \n",
        "        # get top characters\n",
        "        if top_k is None:\n",
        "            top_ch = np.arange(len(net.chars))\n",
        "        else:\n",
        "            p, top_ch = p.topk(top_k)\n",
        "            top_ch = top_ch.numpy().squeeze()\n",
        "        \n",
        "        # select the likely next character with some element of randomness\n",
        "        p = p.numpy().squeeze()\n",
        "        char = np.random.choice(top_ch, p=p/p.sum())\n",
        "        \n",
        "        # return the encoded value of the predicted char and the hidden state\n",
        "        return net.int2char[char], h"
      ],
      "execution_count": 0,
      "outputs": []
    },
    {
      "metadata": {
        "id": "aNozP8toy4SZ",
        "colab_type": "text"
      },
      "cell_type": "markdown",
      "source": [
        "### Priming and generating text \n",
        "\n",
        "Typically you'll want to prime the network so you can build up a hidden state. Otherwise the network will start out generating characters at random. In general the first bunch of characters will be a little rough since it hasn't built up a long history of characters to predict from."
      ]
    },
    {
      "metadata": {
        "id": "uLCBMDw4y4Sb",
        "colab_type": "code",
        "colab": {}
      },
      "cell_type": "code",
      "source": [
        "def sample(net, size, prime='The', top_k=None):\n",
        "        \n",
        "    if(train_on_gpu):\n",
        "        net.cuda()\n",
        "    else:\n",
        "        net.cpu()\n",
        "    \n",
        "    net.eval() # eval mode\n",
        "    \n",
        "    # First off, run through the prime characters\n",
        "    chars = [ch for ch in prime]\n",
        "    h = net.init_hidden(1)\n",
        "    for ch in prime:\n",
        "        char, h = predict(net, ch, h, top_k=top_k)\n",
        "\n",
        "    chars.append(char)\n",
        "    \n",
        "    # Now pass in the previous character and get a new one\n",
        "    for ii in range(size):\n",
        "        char, h = predict(net, chars[-1], h, top_k=top_k)\n",
        "        chars.append(char)\n",
        "\n",
        "    return ''.join(chars)"
      ],
      "execution_count": 0,
      "outputs": []
    },
    {
      "metadata": {
        "id": "QO618cdSy4Si",
        "colab_type": "code",
        "colab": {
          "base_uri": "https://localhost:8080/",
          "height": 452
        },
        "outputId": "d3c4487e-1334-4863-e916-dd7559189746"
      },
      "cell_type": "code",
      "source": [
        "print(sample(net, 1000, prime='Anna', top_k=5))"
      ],
      "execution_count": 33,
      "outputs": [
        {
          "output_type": "stream",
          "text": [
            "Anna, and\n",
            "walked a first time was.\n",
            "\n",
            "\"I cannot give you the sould things,\" he said, with a same, at the\n",
            "carriage. \"I haven't foreout her movements, that you may always be to\n",
            "take her. Anyway!\"\n",
            "\n",
            "\"We'll come too much,\" he said to her.\n",
            "\n",
            "\"I can't be that you must go. I've been true and child...\"\n",
            "\n",
            "\"Well, he's not some of them...\"\n",
            "\n",
            "\"Well, there's a son if the whole sould be at toman a minute. This making\n",
            "his made, and when I saw that tires, that you want to see you.\n",
            "\n",
            "And he was as in importance, I will back and seem, strong\n",
            "would have been making this crief of those for the same.... What was the\n",
            "time, why did she heard the princess, and how side you see that I should shall\n",
            "see it, and, if that's they work to her?\" he said, and with\n",
            "the forming conscarting talking into the carpents whrathered him that he\n",
            "had tore her son's charmance of the principle at the carriage.\n",
            "\n",
            "\"Thanked man, then yet there's no one was that I say: I can't, I can do\n",
            "and\n",
            "so much the children there, and all these may came in to \n"
          ],
          "name": "stdout"
        }
      ]
    },
    {
      "metadata": {
        "id": "9pS9XOYRy4So",
        "colab_type": "text"
      },
      "cell_type": "markdown",
      "source": [
        "## Loading a checkpoint"
      ]
    },
    {
      "metadata": {
        "id": "gC7RT94oy4Sr",
        "colab_type": "code",
        "colab": {}
      },
      "cell_type": "code",
      "source": [
        "# Here we have loaded in a model that trained over 20 epochs `rnn_20_epoch.net`\n",
        "with open('rnn_20_epoch.net', 'rb') as f:\n",
        "    checkpoint = torch.load(f)\n",
        "    \n",
        "loaded = CharRNN(checkpoint['tokens'], n_hidden=checkpoint['n_hidden'], n_layers=checkpoint['n_layers'])\n",
        "loaded.load_state_dict(checkpoint['state_dict'])"
      ],
      "execution_count": 0,
      "outputs": []
    },
    {
      "metadata": {
        "id": "CeBmPeSry4Sx",
        "colab_type": "code",
        "colab": {
          "base_uri": "https://localhost:8080/",
          "height": 652
        },
        "outputId": "803b5100-9cfc-40a7-b52d-710dcb4b7412"
      },
      "cell_type": "code",
      "source": [
        "# Sample using a loaded model\n",
        "print(sample(loaded, 2000, top_k=5, prime=\"And Levin said\"))"
      ],
      "execution_count": 35,
      "outputs": [
        {
          "output_type": "stream",
          "text": [
            "And Levin said\n",
            "that he felt an extraoldinasion of his figure, and though instantly\n",
            "with his son who had all of the pictures of his words, he was not better than\n",
            "she wanted to say all that side in the peasants. He had the position of\n",
            "the princess, and though there was so to take out of the peasants.\n",
            "\n",
            "\"Yes, yes!\" said Stepan Arkadyevitch.\n",
            "\n",
            "\"You cannot be in this form of the prince! We can talk from him to be\n",
            "all there as though the werl act thander and supprecistion\n",
            "in the sound of the moming.\"\n",
            "\n",
            "\"Oh, what is the there,\" said Varenka, with a minute what an end of secret sincere he\n",
            "stalled as though immediately and from the consequence, and without her friend,\n",
            "he stoppaded, as it was such an intenlection and stirring her the\n",
            "position with her, that he would not be sore on the stream, and\n",
            "at his sincerily as he was taking his hundred on the fealor.\n",
            "\n",
            "\"I'm so many perficitate of the cale of the servants. Taking misstest to\n",
            "miserable!\"\n",
            "\n",
            "\"I should see her and we some day to him, and I say. And I did not believe\n",
            "it, but when I wanted to say to him that he did, you see her, and I can't\n",
            "came out of the point of hurriest time,\" he said, smiling, \"why\n",
            "does the sorion of the feeling of her things that this weaked of\n",
            "the moment and the position, and was to traid that terrible matter and the\n",
            "children, and they've a same, as I have seen the position of it, that\n",
            "the completion and soundsers is thinking of me, but I say with the carriage at\n",
            "a long attractive arms. There's not sever mind to her. Alexey Alexandrovitch,\n",
            "was it with her and the case of this standsting at the second same so, and\n",
            "the what some courted, both they're to be in letter and down in the same thoughts\n",
            "and servant. He says it is to say to the soft and talking and assimating.\n",
            "\n",
            "\"Yes, but I see it may be in his brother, who has always arrived in an easer.\"\n",
            "\n",
            "\"Yes, and so as to talk to see her at tome to yourself as though the\n",
            "supper of his most little arrungement of home, without something before\n",
            "me. I'm very well as I see, your hands,\n"
          ],
          "name": "stdout"
        }
      ]
    },
    {
      "metadata": {
        "id": "K-umkhWty4S4",
        "colab_type": "code",
        "colab": {}
      },
      "cell_type": "code",
      "source": [
        ""
      ],
      "execution_count": 0,
      "outputs": []
    }
  ]
}